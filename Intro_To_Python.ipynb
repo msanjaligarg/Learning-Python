{
  "cells": [
    {
      "cell_type": "markdown",
      "metadata": {
        "id": "view-in-github",
        "colab_type": "text"
      },
      "source": [
        "<a href=\"https://colab.research.google.com/github/msanjaligarg/Learning-Python/blob/main/Intro_To_Python.ipynb\" target=\"_parent\"><img src=\"https://colab.research.google.com/assets/colab-badge.svg\" alt=\"Open In Colab\"/></a>"
      ]
    },
    {
      "cell_type": "markdown",
      "id": "9bc7dfdb",
      "metadata": {
        "id": "9bc7dfdb"
      },
      "source": [
        "# Welcome to Python Basics!\n",
        "\n",
        "This notebook is designed for absolute beginners. Python is a popular programming language that is easy to read and write. Here, you'll learn the most basic concepts step by step, with simple code and clear explanations. Let's start your coding journey!\n"
      ]
    },
    {
      "cell_type": "markdown",
      "id": "0383f8a2",
      "metadata": {
        "id": "0383f8a2"
      },
      "source": [
        "##Variables\n",
        "\n",
        "####Python has different types of data:\n",
        "\n",
        "- **Integer**: Whole numbers (1, 2, 100)\n",
        "- **Float**: Numbers with decimals (3.14, 2.5)\n",
        "- **String**: Text in quotes (\"hello\", 'world')\n",
        "- **Boolean**: True or False values"
      ]
    },
    {
      "cell_type": "code",
      "execution_count": null,
      "id": "8b602402",
      "metadata": {
        "id": "8b602402",
        "colab": {
          "base_uri": "https://localhost:8080/"
        },
        "outputId": "2eb9f20b-781b-4838-ab4a-887054ffa1f9"
      },
      "outputs": [
        {
          "output_type": "stream",
          "name": "stdout",
          "text": [
            "25.0\n",
            "5.9\n",
            "Alice\n",
            "True\n",
            "<class 'float'>\n",
            "<class 'float'>\n",
            "Age: 25.0\n",
            "<class 'str'>\n",
            "150\n"
          ]
        }
      ],
      "source": [
        "# Different types of variables\n",
        "age = 25.0                    # Integer (whole number)\n",
        "height = 5.9                # Float (decimal number)\n",
        "name = \"Alice\"              # String (text)\n",
        "is_student = True           # Boolean (True or False)\n",
        "\n",
        "print(age)\n",
        "print(height)\n",
        "print(name)\n",
        "print(is_student)\n",
        "\n",
        "# Check the type of a variable\n",
        "print(type(age))            # Shows: <class 'int'>\n",
        "print(type(height))         # Shows: <class 'float'>\n",
        "\n",
        "# Convert between types\n",
        "age_as_string = str(age)    # Convert number to string\n",
        "print(\"Age: \" + age_as_string)\n",
        "print(type(age_as_string))\n",
        "\n",
        "number_as_string = \"100\"\n",
        "number_as_int = int(number_as_string)  # Convert string to number\n",
        "print(number_as_int + 50)   # Now we can do math!"
      ]
    },
    {
      "cell_type": "markdown",
      "id": "fc759626",
      "metadata": {
        "id": "fc759626"
      },
      "source": [
        "##Operators\n",
        "####Python has several types of operators:\n",
        "\n",
        "**Arithmetic Operators**: For math\n",
        "- `+` (add), `-` (subtract), `*` (multiply), `/` (divide)\n",
        "- `//` (floor division), `%` (modulo/remainder), `**` (power)\n",
        "\n",
        "**Comparison Operators**: For comparing values\n",
        "- `==` (equal), `!=` (not equal), `>` (greater than), `<` (less than)\n",
        "- `>=` (greater or equal), `<=` (less or equal)\n",
        "\n",
        "**Logical Operators**: For combining conditions\n",
        "- `and` (both must be true), `or` (one must be true), `not` (opposite)"
      ]
    },
    {
      "cell_type": "code",
      "execution_count": null,
      "id": "e5fe9dfd",
      "metadata": {
        "id": "e5fe9dfd",
        "colab": {
          "base_uri": "https://localhost:8080/"
        },
        "outputId": "fe02ecb8-f6be-468a-8649-9209f0038867"
      },
      "outputs": [
        {
          "output_type": "stream",
          "name": "stdout",
          "text": [
            "Addition: 13\n",
            "Subtraction: 7\n",
            "Multiplication: 30\n",
            "Division: 3.3333333333333335\n",
            "Floor Division: 3\n",
            "Modulo: 1\n",
            "Power: 1000\n",
            "\n",
            "Is 10 equal to 3? False\n",
            "Is 10 not equal to 3? True\n",
            "Is 10 greater than 3? True\n",
            "Is 10 less than 3? False\n",
            "\n",
            "True AND False: False\n",
            "True OR False: True\n",
            "NOT True: False\n",
            "\n",
            "Is age between 18 and 65? True\n"
          ]
        }
      ],
      "source": [
        "# Arithmetic Operators\n",
        "a = 10\n",
        "b = 3\n",
        "\n",
        "print(\"Addition:\", a + b)           # 13\n",
        "print(\"Subtraction:\", a - b)        # 7\n",
        "print(\"Multiplication:\", a * b)     # 30\n",
        "print(\"Division:\", a / b)           # 3.333...\n",
        "print(\"Floor Division:\", a // b)    # 3 (rounds down)\n",
        "print(\"Modulo:\", a % b)             # 1 (remainder)\n",
        "print(\"Power:\", a ** b)             # 1000 (10^3)\n",
        "\n",
        "# Comparison Operators\n",
        "print(\"\\nIs 10 equal to 3?\", a == b)           # False\n",
        "print(\"Is 10 not equal to 3?\", a != b)         # True\n",
        "print(\"Is 10 greater than 3?\", a > b)          # True\n",
        "print(\"Is 10 less than 3?\", a < b)             # False\n",
        "\n",
        "# Logical Operators\n",
        "x = True\n",
        "y = False\n",
        "print(\"\\nTrue AND False:\", x and y)    # False (both must be true)\n",
        "print(\"True OR False:\", x or y)        # True (one must be true)\n",
        "print(\"NOT True:\", not x)              # False (opposite)\n",
        "\n",
        "# Combining comparisons with logical operators\n",
        "age = 20\n",
        "print(\"\\nIs age between 18 and 65?\", age >= 18 and age <= 65)  # True"
      ]
    },
    {
      "cell_type": "markdown",
      "id": "2c7eae65",
      "metadata": {
        "id": "2c7eae65"
      },
      "source": [
        "## What is a String?\n",
        "A string is text - letters, numbers, or symbols in quotes. You can use single quotes `'hello'` or double quotes `\"hello\"`.\n",
        "\n",
        "**String Operations**:\n",
        "- **Concatenation**: Join strings with `+`\n",
        "- **Indexing**: Access a character with `[position]` (starts at 0)\n",
        "- **Slicing**: Get a portion with `[start:end]`\n",
        "- **Methods**: Built-in functions like `.upper()`, `.lower()`, `.replace()`, etc."
      ]
    },
    {
      "cell_type": "code",
      "execution_count": null,
      "id": "48f1fbbc",
      "metadata": {
        "id": "48f1fbbc",
        "colab": {
          "base_uri": "https://localhost:8080/"
        },
        "outputId": "ce598b78-3b33-40fa-e7c1-ac0bd1725172"
      },
      "outputs": [
        {
          "output_type": "stream",
          "name": "stdout",
          "text": [
            "Hello Alice\n",
            "First character: H\n",
            "Last character: !\n",
            "First 5 characters: Hello\n",
            "Characters 7 to 12: World\n",
            "Length: 13\n",
            "Uppercase: HELLO, WORLD!\n",
            "Lowercase: hello, world!\n",
            "Replace: Hello, Python!\n",
            "Alice is 25 years old\n",
            "Alice is 25 years old\n",
            "'World' in message: True\n"
          ]
        }
      ],
      "source": [
        "# Creating strings\n",
        "message = \"Hello, World!\"\n",
        "name = \"Alice\"\n",
        "\n",
        "# Concatenation (joining strings)\n",
        "greeting = \"Hello\" + \" \" + name\n",
        "print(greeting)\n",
        "\n",
        "# String indexing (position starts at 0)\n",
        "print(\"First character:\", message[0])      # H\n",
        "print(\"Last character:\", message[-1])      # -1 represents the last element\n",
        "\n",
        "# String slicing\n",
        "print(\"First 5 characters:\", message[0:5])  # Hello\n",
        "print(\"Characters 7 to 12:\", message[7:12]) # World\n",
        "\n",
        "# String length\n",
        "print(\"Length:\", len(message))              # 13\n",
        "\n",
        "# String methods\n",
        "print(\"Uppercase:\", message.upper())        # HELLO, WORLD!\n",
        "print(\"Lowercase:\", message.lower())        # hello, world!\n",
        "print(\"Replace:\", message.replace(\"World\", \"Python\"))  # Hello, Python!\n",
        "\n",
        "# String formatting (f-strings)\n",
        "age = 25\n",
        "print(name + \" is \" + str(age) + \" years old\")   # Without using f strings\n",
        "print(f\"{name} is {age} years old\")         # by using f strings\n",
        "\n",
        "# Check if substring exists\n",
        "print(\"'World' in message:\", \"World\" in message)  # True"
      ]
    },
    {
      "cell_type": "markdown",
      "id": "483af237",
      "metadata": {
        "id": "483af237"
      },
      "source": [
        "## What is an If Statement?\n",
        "An if statement lets your code make decisions based on conditions. It checks if something is true, and then does something.\n",
        "\n",
        "**Structure**:\n",
        "- `if`: Check the first condition\n",
        "- `elif`: Check another condition (else if)\n",
        "- `else`: Do this if nothing else is true\n",
        "\n",
        "You can also nest conditions (put if statements inside other if statements) and use ternary operators for short conditions."
      ]
    },
    {
      "cell_type": "code",
      "execution_count": null,
      "id": "396ad50e",
      "metadata": {
        "id": "396ad50e",
        "colab": {
          "base_uri": "https://localhost:8080/"
        },
        "outputId": "b898e01e-c1fe-4911-dd45-df638df99f63"
      },
      "outputs": [
        {
          "output_type": "stream",
          "name": "stdout",
          "text": [
            "It's nice!\n",
            "You can drive!\n",
            "You passed!\n",
            "Good job!\n",
            "Minor\n"
          ]
        }
      ],
      "source": [
        "# Basic if/elif/else\n",
        "temperature = 25\n",
        "\n",
        "if temperature > 30:\n",
        "    print(\"It's hot!\")\n",
        "elif temperature > 20:\n",
        "    print(\"It's nice!\")\n",
        "elif temperature > 10:\n",
        "    print(\"It's cool!\")\n",
        "else:\n",
        "    print(\"It's cold!\")\n",
        "\n",
        "# Multiple conditions with 'and'\n",
        "age = 20\n",
        "has_license = True\n",
        "\n",
        "if age >= 18 and has_license:\n",
        "    print(\"You can drive!\")\n",
        "else:\n",
        "    print(\"You cannot drive.\")\n",
        "\n",
        "# Nested conditions (if inside if)\n",
        "grade = 85\n",
        "\n",
        "if grade >= 50:\n",
        "    print(\"You passed!\")\n",
        "    if grade >= 90:\n",
        "        print(\"Excellent!\")\n",
        "    elif grade >= 75:\n",
        "        print(\"Good job!\")\n",
        "else:\n",
        "    print(\"You failed.\")\n",
        "\n",
        "# Ternary operator (short if/else)\n",
        "age = 17\n",
        "status = \"Adult\" if age >= 18 else \"Minor\"\n",
        "print(status)"
      ]
    },
    {
      "cell_type": "markdown",
      "id": "2b2d677f",
      "metadata": {
        "id": "2b2d677f"
      },
      "source": [
        "## What are Data Structures?\n",
        "Data structures help you organize and store collections of data efficiently.\n",
        "\n",
        "**List** `[]`: Ordered, changeable, allows duplicates\n",
        "- Methods: `.append()`, `.insert()`, `.remove()`, `.pop()`, `.sort()`\n",
        "\n",
        "**Tuple** `()`: Ordered, unchangeable, allows duplicates\n",
        "- Good for data that shouldn't change\n",
        "\n",
        "**Set** `{}`: Unordered, unchangeable items, no duplicates\n",
        "- Operations: union, intersection, difference\n",
        "\n",
        "**Dictionary** `{key: value}`: Unordered, changeable, no duplicate keys\n",
        "- Store key-value pairs, access by key"
      ]
    },
    {
      "cell_type": "code",
      "execution_count": null,
      "id": "91d36507",
      "metadata": {
        "id": "91d36507",
        "colab": {
          "base_uri": "https://localhost:8080/"
        },
        "outputId": "56d64ed6-3e70-4a8b-abee-6cbfe1035ccd"
      },
      "outputs": [
        {
          "output_type": "stream",
          "name": "stdout",
          "text": [
            "Original list: [1, 2, 3, 'hello']\n",
            "After append: [1, 2, 3, 'hello', 4]\n",
            "After insert: [1, 'new', 2, 3, 'hello', 4]\n",
            "After remove: [1, 'new', 2, 3, 4]\n",
            "Popped item: 4\n",
            "After pop: [1, 'new', 2, 3]\n",
            "0\n",
            "First 3: [0, 1, 2]\n",
            "Last 2: [4, 5]\n",
            "\n",
            "Tuple: (1, 2, 3, 'hello')\n",
            "First item: 1\n",
            "Unpacked: 1 2 3 hello\n",
            "\n",
            "Set (duplicates removed): {1, 2, 3, 4}\n",
            "Modified set: {2, 3, 4, 5}\n",
            "Union: {1, 2, 3, 4, 5}\n",
            "Intersection: {3}\n",
            "Difference: {1, 2}\n",
            "\n",
            "Dictionary: {'name': 'Alice', 'age': 25, 'city': 'NYC'}\n",
            "Name: Alice\n",
            "Updated: {'name': 'Alice', 'age': 26, 'city': 'NYC', 'job': 'Engineer'}\n",
            "Keys: dict_keys(['name', 'age', 'city', 'job'])\n",
            "Values: dict_values(['Alice', 26, 'NYC', 'Engineer'])\n",
            "Items: dict_items([('name', 'Alice'), ('age', 26), ('city', 'NYC'), ('job', 'Engineer')])\n",
            "Has 'name' key? True\n"
          ]
        }
      ],
      "source": [
        "# LISTS - changeable, ordered\n",
        "my_list = [1, 2, 3, \"hello\"]\n",
        "print(\"Original list:\", my_list)\n",
        "\n",
        "my_list.append(4)              # Add to end\n",
        "print(\"After append:\", my_list)\n",
        "\n",
        "my_list.insert(1, \"new\")       # Insert at position 1\n",
        "print(\"After insert:\", my_list)\n",
        "\n",
        "my_list.remove(\"hello\")        # Remove specific item\n",
        "print(\"After remove:\", my_list)\n",
        "\n",
        "last_item = my_list.pop()      # Remove and return last item\n",
        "print(\"Popped item:\", last_item)\n",
        "print(\"After pop:\", my_list)\n",
        "\n",
        "# List slicing\n",
        "numbers = [0, 1, 2, 3, 4, 5]\n",
        "print(numbers[0])\n",
        "print(\"First 3:\", numbers[:3])\n",
        "print(\"Last 2:\", numbers[-2:])\n",
        "\n",
        "# TUPLES - unchangeable, ordered\n",
        "my_tuple = (1, 2, 3, \"hello\")\n",
        "print(\"\\nTuple:\", my_tuple)\n",
        "print(\"First item:\", my_tuple[0])\n",
        "\n",
        "# Tuple unpacking\n",
        "x, y, z, text = my_tuple\n",
        "print(\"Unpacked:\", x, y, z, text)\n",
        "\n",
        "# SETS - no duplicates, unordered\n",
        "my_set = {1, 2, 2, 3, 4, 3}\n",
        "print(\"\\nSet (duplicates removed):\", my_set)\n",
        "\n",
        "my_set.add(5)                  # Add item\n",
        "my_set.remove(1)               # Remove item\n",
        "print(\"Modified set:\", my_set)\n",
        "\n",
        "# Set operations\n",
        "set1 = {1, 2, 3}\n",
        "set2 = {3, 4, 5}\n",
        "print(\"Union:\", set1 | set2)         # All items\n",
        "print(\"Intersection:\", set1 & set2)  # Common items\n",
        "print(\"Difference:\", set1 - set2)    # In set1 but not set2\n",
        "\n",
        "# DICTIONARIES - key-value pairs\n",
        "person = {\"name\": \"Alice\", \"age\": 25, \"city\": \"NYC\"}\n",
        "print(\"\\nDictionary:\", person)\n",
        "print(\"Name:\", person[\"name\"])\n",
        "\n",
        "# Add/update items\n",
        "person[\"job\"] = \"Engineer\"\n",
        "person[\"age\"] = 26\n",
        "print(\"Updated:\", person)\n",
        "\n",
        "# Dictionary methods\n",
        "print(\"Keys:\", person.keys())\n",
        "print(\"Values:\", person.values())\n",
        "print(\"Items:\", person.items())\n",
        "\n",
        "# Check if key exists\n",
        "print(\"Has 'name' key?\", \"name\" in person)"
      ]
    },
    {
      "cell_type": "markdown",
      "id": "af6386df",
      "metadata": {
        "id": "af6386df"
      },
      "source": [
        "## What is a Loop?\n",
        "A loop lets you repeat code multiple times without writing it again and again.\n",
        "\n",
        "**For Loop**: Goes through each item in a sequence (list, string, range)\n",
        "- Use `range()` to loop a specific number of times\n",
        "- Use `enumerate()` to get both index and value\n",
        "\n",
        "**While Loop**: Keeps running as long as a condition is true\n",
        "\n",
        "**Loop Control**:\n",
        "- `break`: Stop the loop completely\n",
        "- `continue`: Skip to the next iteration"
      ]
    },
    {
      "cell_type": "code",
      "execution_count": null,
      "id": "6d0cace4",
      "metadata": {
        "id": "6d0cace4",
        "colab": {
          "base_uri": "https://localhost:8080/"
        },
        "outputId": "19b6caa8-429d-424c-c960-7e9cfc9050b8"
      },
      "outputs": [
        {
          "output_type": "stream",
          "name": "stdout",
          "text": [
            "apple\n",
            "banana\n",
            "cherry\n",
            "\n",
            "Counting with range:\n",
            "0\n",
            "1\n",
            "2\n",
            "3\n",
            "4\n",
            "\n",
            "Even numbers from 0 to 10:\n",
            "0\n",
            "2\n",
            "4\n",
            "6\n",
            "8\n",
            "10\n",
            "\n",
            "With index:\n",
            "0: apple\n",
            "1: banana\n",
            "2: cherry\n",
            "\n",
            "Countdown:\n",
            "3\n",
            "2\n",
            "1\n",
            "Done!\n",
            "\n",
            "Break example:\n",
            "0\n",
            "1\n",
            "2\n",
            "3\n",
            "4\n",
            "\n",
            "Continue example:\n",
            "0\n",
            "1\n",
            "3\n",
            "4\n",
            "\n",
            "Nested loops (multiplication table):\n",
            "1 x 1 = 1\n",
            "1 x 2 = 2\n",
            "1 x 3 = 3\n",
            "2 x 1 = 2\n",
            "2 x 2 = 4\n",
            "2 x 3 = 6\n",
            "3 x 1 = 3\n",
            "3 x 2 = 6\n",
            "3 x 3 = 9\n"
          ]
        }
      ],
      "source": [
        "# For loop with a list\n",
        "fruits = [\"apple\", \"banana\", \"cherry\"]\n",
        "for fruit in fruits:\n",
        "    print(fruit)\n",
        "\n",
        "# For loop with range (0 to 4)\n",
        "print(\"\\nCounting with range:\")\n",
        "for i in range(0, 5, 1):\n",
        "    print(i)\n",
        "\n",
        "# For loop with range (start, stop, step)\n",
        "print(\"\\nEven numbers from 0 to 10:\")\n",
        "for num in range(0, 11, 2):\n",
        "    print(num)\n",
        "\n",
        "# For loop with enumerate (get index and value)\n",
        "print(\"\\nWith index:\")\n",
        "for index, fruit in enumerate(fruits):\n",
        "    print(f\"{index}: {fruit}\")\n",
        "\n",
        "# While loop\n",
        "print(\"\\nCountdown:\")\n",
        "count = 3\n",
        "while count > 0:\n",
        "    print(count)\n",
        "    count = count - 1\n",
        "print(\"Done!\")\n",
        "\n",
        "# Break (stop the loop)\n",
        "print(\"\\nBreak example:\")\n",
        "for i in range(10):\n",
        "    if i == 5:\n",
        "        break  # Stop when i is 5\n",
        "    print(i)\n",
        "\n",
        "# Continue (skip to next iteration)\n",
        "print(\"\\nContinue example:\")\n",
        "for i in range(5):\n",
        "    if i == 2:\n",
        "        continue  # Skip when i is 2\n",
        "    print(i)\n",
        "\n",
        "# Nested loops\n",
        "print(\"\\nNested loops (multiplication table):\")\n",
        "for i in range(1, 4):\n",
        "    for j in range(1, 4):\n",
        "        print(f\"{i} x {j} = {i*j}\")"
      ]
    },
    {
      "cell_type": "markdown",
      "id": "9347068b",
      "metadata": {
        "id": "9347068b"
      },
      "source": [
        "## What is a Function?\n",
        "A function is a reusable block of code that performs a specific task. You define it once and can use it many times.\n",
        "\n",
        "**Function Parts**:\n",
        "- **Parameters**: Input values the function receives\n",
        "- **Return**: Output value the function gives back\n",
        "- **Default arguments**: Parameters with preset values\n",
        "- **Scope**: Where variables can be accessed (local vs global)\n",
        "\n"
      ]
    },
    {
      "cell_type": "code",
      "execution_count": null,
      "id": "9d4d3337",
      "metadata": {
        "id": "9d4d3337",
        "colab": {
          "base_uri": "https://localhost:8080/"
        },
        "outputId": "dc5ce9a1-fd7c-4b1e-fbe6-60fceb6e50db"
      },
      "outputs": [
        {
          "output_type": "stream",
          "name": "stdout",
          "text": [
            "Hello!\n",
            "Hello, Alice!\n",
            "Hello, Bob!\n",
            "Hello, Charlie!\n",
            "5 + 3 = 8\n",
            "Hello, Bob!\n",
            "Hi, Charlie!\n",
            "Min: 1, Max: 9\n",
            "I'm local\n",
            "I'm global\n"
          ]
        }
      ],
      "source": [
        "# Simple function with no parameters\n",
        "def greet():\n",
        "    print(\"Hello!\")\n",
        "\n",
        "greet()\n",
        "\n",
        "# Function with parameters\n",
        "def greet_person(name1, name2, name3):\n",
        "    print(f\"Hello, {name1}!\")\n",
        "    print(f\"Hello, {name2}!\")\n",
        "    print(f\"Hello, {name3}!\")\n",
        "\n",
        "greet_person(\"Alice\", \"Bob\", \"Charlie\")\n",
        "\n",
        "# Function with return value\n",
        "def add(a, b):\n",
        "    return a + b\n",
        "\n",
        "result = add(5, 3)\n",
        "# print(add(5, 3))\n",
        "print(\"5 + 3 =\", result)\n",
        "\n",
        "# Function with default arguments\n",
        "def greet_custom(name, greeting=\"Hello\"):\n",
        "    return f\"{greeting}, {name}!\"\n",
        "\n",
        "print(greet_custom(\"Bob\"))              # Uses default \"Hello\"\n",
        "print(greet_custom(\"Charlie\", \"Hi\"))    # Uses \"Hi\"\n",
        "\n",
        "# Function with multiple return values\n",
        "def get_min_max(numbers):\n",
        "    return min(numbers), max(numbers)\n",
        "\n",
        "minimum, maximum = get_min_max([1, 5, 3, 9, 2])\n",
        "print(f\"Min: {minimum}, Max: {maximum}\")\n",
        "\n",
        "# Variable scope\n",
        "global_var = \"I'm global\"\n",
        "\n",
        "def test_scope():\n",
        "    global_var = \"I'm local\"\n",
        "    print(global_var)    # Can access global\n",
        "\n",
        "test_scope()\n",
        "print(global_var)     # Can access local\n",
        "# print(local_var)  # ERROR: local_var doesn't exist outside function"
      ]
    },
    {
      "cell_type": "code",
      "source": [
        "#miscellaneous\n",
        "\n",
        "# lambda function\n",
        "add = lambda a, b: a + b\n",
        "print(add(3, 7))\n",
        "\n",
        "#filter\n",
        "numbers = [1, 2, 3, 4, 5, 6, 7, 8, 9, 10]\n",
        "\n",
        "def is_even(num):\n",
        "    return num % 2 == 0\n",
        "\n",
        "even = lambda num: num%2\n",
        "\n",
        "even_numbers_iterator = filter(is_even, numbers)\n",
        "even_numbers_list = list(even_numbers_iterator)\n",
        "print(even_numbers_list)"
      ],
      "metadata": {
        "colab": {
          "base_uri": "https://localhost:8080/"
        },
        "id": "mUtmteLzvjfe",
        "outputId": "1a4111d6-6cc2-42cb-c1f2-3e4f88ffb833"
      },
      "id": "mUtmteLzvjfe",
      "execution_count": null,
      "outputs": [
        {
          "output_type": "stream",
          "name": "stdout",
          "text": [
            "10\n",
            "[2, 4, 6, 8, 10]\n"
          ]
        }
      ]
    },
    {
      "cell_type": "markdown",
      "source": [
        "# Why does OOP Exist?\n",
        "\n",
        "Let's say you want to model a real-world object, like a Car, how would you do it in Python? One way is to do as follows:"
      ],
      "metadata": {
        "id": "EsiOEe3wU7jn"
      },
      "id": "EsiOEe3wU7jn"
    },
    {
      "cell_type": "code",
      "source": [
        "car_name = \"Mustang\"\n",
        "color = \"red\"\n",
        "top_speed = 120"
      ],
      "metadata": {
        "id": "FzhwmqQlVodR"
      },
      "id": "FzhwmqQlVodR",
      "execution_count": null,
      "outputs": []
    },
    {
      "cell_type": "markdown",
      "source": [
        "But it can be observed that for multiple cars, we end up with several variables, and it gets messy.\n",
        "\n",
        "## This is where OOPS comes in\n",
        "\n",
        "OOP helps us group related data (attributes) and actions (methods) into one \"blueprint\". Let's understand through an example."
      ],
      "metadata": {
        "id": "6WvoMdQaVysJ"
      },
      "id": "6WvoMdQaVysJ"
    },
    {
      "cell_type": "code",
      "source": [
        "class Car: # the car is the blueprint for creating multiple types of cars.\n",
        "\n",
        "    # the body will contain several features of a car and the functions which can be performed by any car.\n",
        "    pass\n",
        "\n",
        "my_car = Car()  # my_car is the object created from blueprint (the Car class)."
      ],
      "metadata": {
        "id": "CUoAoD8TWsuX"
      },
      "id": "CUoAoD8TWsuX",
      "execution_count": null,
      "outputs": []
    },
    {
      "cell_type": "markdown",
      "source": [
        "# Attributes\n",
        "\n",
        "The __ __init__ __ method is used for defining certain attributes of a class. More formally, it is called the constructor, and it automatically runs when you create an object.\n",
        "\n",
        "The __self__ parameter is used for referring to the object itself that will be created within the class."
      ],
      "metadata": {
        "id": "qZFrQV-HXT01"
      },
      "id": "qZFrQV-HXT01"
    },
    {
      "cell_type": "code",
      "source": [
        "class Car:\n",
        "    def __init__(my, color, speed):\n",
        "        my.c = color\n",
        "        my.s = speed\n",
        "        my.mileage = my.s * 10\n",
        "\n",
        "my_car = Car(\"red\", 120)\n",
        "print(my_car.c)  # red\n",
        "print(my_car.s)  # 120\n",
        "print(my_car.mileage)"
      ],
      "metadata": {
        "colab": {
          "base_uri": "https://localhost:8080/"
        },
        "id": "kJtiXIvDXRBU",
        "outputId": "ccbf7e0e-efd8-42dd-bf87-ec161a599a56"
      },
      "id": "kJtiXIvDXRBU",
      "execution_count": null,
      "outputs": [
        {
          "output_type": "stream",
          "name": "stdout",
          "text": [
            "red\n",
            "red\n"
          ]
        }
      ]
    },
    {
      "cell_type": "code",
      "source": [
        "# Without OOP: Using just variables\n",
        "car1_color = \"black\"\n",
        "car1_speed = 100\n",
        "\n",
        "car2_color = \"red\"\n",
        "car2_speed = 150\n",
        "\n",
        "car3_color = \"yellow\"\n",
        "car3_speed = 200\n",
        "\n",
        "# If we want to print details of each car\n",
        "print(car1_color, car1_speed)\n",
        "print(car2_color, car2_speed)\n",
        "print(car3_color, car3_speed)\n"
      ],
      "metadata": {
        "colab": {
          "base_uri": "https://localhost:8080/"
        },
        "id": "aKgOg05qYQFW",
        "outputId": "b1908af4-602b-4539-a6f7-e32ba4097b5f"
      },
      "id": "aKgOg05qYQFW",
      "execution_count": null,
      "outputs": [
        {
          "output_type": "stream",
          "name": "stdout",
          "text": [
            "black 100\n",
            "red 150\n",
            "yellow 200\n"
          ]
        }
      ]
    },
    {
      "cell_type": "code",
      "source": [
        "# With OOP\n",
        "car1 = Car(\"black\", 100)\n",
        "car2 = Car(\"red\", 150)\n",
        "car3 = Car(\"yellow\", 200)\n",
        "\n",
        "print(car1.color, car1.speed)\n",
        "print(car2.color, car2.speed)\n",
        "print(car3.color, car3.speed)"
      ],
      "metadata": {
        "colab": {
          "base_uri": "https://localhost:8080/"
        },
        "id": "7WNucmAcYuAz",
        "outputId": "a5242ac8-2c93-4cdb-e64f-50311f386f25"
      },
      "id": "7WNucmAcYuAz",
      "execution_count": null,
      "outputs": [
        {
          "output_type": "stream",
          "name": "stdout",
          "text": [
            "black 100\n",
            "red 150\n",
            "yellow 200\n"
          ]
        }
      ]
    },
    {
      "cell_type": "markdown",
      "source": [
        "# Methods\n",
        "\n",
        "Is it possible for the cars we created above, to actually perform some functions?\n",
        "\n",
        "## **YES**.\n",
        "\n",
        "Let's see how.\n",
        "\n"
      ],
      "metadata": {
        "id": "FLuXl_hsYj87"
      },
      "id": "FLuXl_hsYj87"
    },
    {
      "cell_type": "code",
      "source": [
        "class Car:\n",
        "    def __init__(self, color, speed):\n",
        "        self.c = color\n",
        "        self.s = speed\n",
        "        self.mileage = self.s * 10\n",
        "\n",
        "    def drive(self): # the drive function can be perfomed by all created instances of the class.\n",
        "        print(f\"The {self.c} car is driving at {self.s} km/h\")\n",
        "\n",
        "my_car = Car(\"blue\", 150)\n",
        "my_car.drive()  # The blue car is driving at 150 km/h"
      ],
      "metadata": {
        "colab": {
          "base_uri": "https://localhost:8080/"
        },
        "id": "kG2DHJ88ZTJB",
        "outputId": "aa5a0822-e694-4e29-f970-5cf313dd507a"
      },
      "id": "kG2DHJ88ZTJB",
      "execution_count": null,
      "outputs": [
        {
          "output_type": "stream",
          "name": "stdout",
          "text": [
            "The blue car is driving at 150 km/h\n"
          ]
        }
      ]
    },
    {
      "cell_type": "markdown",
      "source": [
        "# Functions vs Methods\n",
        "\n",
        "It is important to distinguish between functions and methods as they can be easily confused for one another.\n",
        "\n"
      ],
      "metadata": {
        "id": "sBTnWq92ZokU"
      },
      "id": "sBTnWq92ZokU"
    },
    {
      "cell_type": "code",
      "source": [
        "# Function: Independent, works by itself.\n",
        "\n",
        "def hello():\n",
        "    print(\"Hello world! \")\n",
        "hello()"
      ],
      "metadata": {
        "colab": {
          "base_uri": "https://localhost:8080/"
        },
        "id": "u12wfb9MZ1_7",
        "outputId": "28d8e3d9-d6bc-4abc-df59-f88f8773d7f0"
      },
      "id": "u12wfb9MZ1_7",
      "execution_count": null,
      "outputs": [
        {
          "output_type": "stream",
          "name": "stdout",
          "text": [
            "Hello world! \n"
          ]
        }
      ]
    },
    {
      "cell_type": "code",
      "source": [
        "# Method: Lives inside a class, always acts on an object.\n",
        "\n",
        "class Salutation:\n",
        "  def hello(self):\n",
        "    print(\"Hello world!\")\n",
        "\n",
        "sal = Salutation()\n",
        "sal.hello()"
      ],
      "metadata": {
        "colab": {
          "base_uri": "https://localhost:8080/"
        },
        "id": "d9n7O4lwaCOR",
        "outputId": "5d555164-8f6c-4611-e760-803f0e5b1a3c"
      },
      "id": "d9n7O4lwaCOR",
      "execution_count": null,
      "outputs": [
        {
          "output_type": "stream",
          "name": "stdout",
          "text": [
            "Hello world!\n"
          ]
        }
      ]
    },
    {
      "cell_type": "markdown",
      "source": [
        "## Now let's bring together all the concepts learned so far"
      ],
      "metadata": {
        "id": "ScLx6agLav_1"
      },
      "id": "ScLx6agLav_1"
    },
    {
      "cell_type": "code",
      "source": [
        "class BankAccount:\n",
        "    def __init__(self, owner, balance=0):\n",
        "        self.owner = owner\n",
        "        self.balance = balance\n",
        "\n",
        "    def deposit(self, amount):\n",
        "        self.balance += amount\n",
        "\n",
        "    def withdraw(self, amount):\n",
        "        if amount <= self.balance:\n",
        "            self.balance -= amount\n",
        "        else:\n",
        "            print(\"Insufficient funds\")\n",
        "\n",
        "acc = BankAccount(\"Alice\", 100)\n",
        "acc.deposit(50)\n",
        "print(acc.balance) # What is the current balance?\n",
        "acc.withdraw(70)\n",
        "print(acc.balance) # What is the balance now?\n",
        "acc.withdraw(100)\n",
        "print(acc.balance) # What is the balance now?"
      ],
      "metadata": {
        "colab": {
          "base_uri": "https://localhost:8080/"
        },
        "id": "vQk3MJgEa_Mk",
        "outputId": "b4fbd027-aa8f-42ee-9da3-8bb6f64af4cc"
      },
      "id": "vQk3MJgEa_Mk",
      "execution_count": null,
      "outputs": [
        {
          "output_type": "stream",
          "name": "stdout",
          "text": [
            "150\n",
            "80\n",
            "Insufficient funds\n",
            "80\n"
          ]
        }
      ]
    },
    {
      "cell_type": "markdown",
      "id": "1feee1a0",
      "metadata": {
        "id": "1feee1a0"
      },
      "source": [
        "## What is Inheritance?\n",
        "Inheritance lets you create a new class based on an existing class. The new class (child) inherits attributes and methods from the parent class, and you can add or modify features.\n",
        "\n",
        "**Key Concepts**:\n",
        "- **Parent/Base class**: The class being inherited from\n",
        "- **Child/Derived class**: The class that inherits\n",
        "- **super()**: Call parent class methods\n",
        "- **Multiple inheritance**: Inherit from multiple classes"
      ]
    },
    {
      "cell_type": "code",
      "execution_count": null,
      "id": "b472768d",
      "metadata": {
        "id": "b472768d",
        "colab": {
          "base_uri": "https://localhost:8080/"
        },
        "outputId": "5663764c-890b-4b89-f137-8dc73f385072"
      },
      "outputs": [
        {
          "output_type": "stream",
          "name": "stdout",
          "text": [
            "Tesla has a 100 kWh battery.\n",
            "Ferrari engine starts with a key.\n",
            "Ferrari has a top speed of 350 km/h.\n"
          ]
        }
      ],
      "source": [
        "class Car:\n",
        "    def __init__(self, brand):\n",
        "        self.brand = brand\n",
        "\n",
        "    def start_engine(self):\n",
        "        print(f\"{self.brand} engine starts with a key.\")\n",
        "\n",
        "class ElectricCar(Car):\n",
        "    def __init__(self, battery_capacity):\n",
        "        #super().__init__(brand)\n",
        "        self.battery_capacity = battery_capacity\n",
        "\n",
        "    def show_battery(self):\n",
        "        print(f\"Tesla has a {self.battery_capacity} kWh battery.\")\n",
        "\n",
        "class SportsCar(Car):\n",
        "    def __init__(self, brand, top_speed):\n",
        "        super().__init__(brand)\n",
        "        self.top_speed = top_speed\n",
        "\n",
        "    def show_speed(self):\n",
        "        print(f\"{self.brand} has a top speed of {self.top_speed} km/h.\")\n",
        "\n",
        "tesla = ElectricCar(100)\n",
        "ferrari = SportsCar(\"Ferrari\", 350)\n",
        "\n",
        "#tesla.start_engine()\n",
        "tesla.show_battery()\n",
        "ferrari.start_engine()\n",
        "ferrari.show_speed()"
      ]
    },
    {
      "cell_type": "code",
      "source": [
        "class Vehicle:\n",
        "    def __init__(self, name):\n",
        "        self.name = name\n",
        "\n",
        "    def info(self):\n",
        "        print(f\"This is a vehicle named {self.name}.\")\n",
        "\n",
        "class Truck(Vehicle):\n",
        "    def __init__(self, name, capacity):\n",
        "        super().__init__(name)  # Call parent constructor\n",
        "        self.capacity = capacity\n",
        "\n",
        "    def truck_info(self):\n",
        "        self.info()  # Use parent method (not overriding)\n",
        "        print(f\"It can carry {self.capacity} tons of load.\")\n",
        "\n",
        "truck = Truck(\"Volvo Truck\", 20)\n",
        "truck.truck_info()"
      ],
      "metadata": {
        "id": "ironmOx0J0Lr"
      },
      "id": "ironmOx0J0Lr",
      "execution_count": null,
      "outputs": []
    },
    {
      "cell_type": "markdown",
      "source": [
        "## Multiple Inheritance — Car Factory\n",
        "\n",
        "The class `CarFactory` combines methods from both `PaintShop` and `AssemblyLine`.  \n",
        "It uses functions from each parent to complete the manufacturing process.\n"
      ],
      "metadata": {
        "id": "_yLZEdF-Ltr6"
      },
      "id": "_yLZEdF-Ltr6"
    },
    {
      "cell_type": "code",
      "source": [
        "# Multiple Inheritance Example: Car Factory\n",
        "\n",
        "class PaintShop:\n",
        "    def paint(self):\n",
        "        print(\"Painting the car body in the chosen color...\")\n",
        "\n",
        "class AssemblyLine:\n",
        "    def assemble(self):\n",
        "        print(\"Assembling parts: engine, chassis, and wheels...\")\n",
        "\n",
        "class CarFactory(PaintShop, AssemblyLine):\n",
        "    def produce(self):\n",
        "        print(\"Starting car production line...\")\n",
        "        self.assemble()\n",
        "        self.paint()\n",
        "        print(\"Car production complete!\")\n",
        "\n",
        "factory = CarFactory()\n",
        "factory.produce()"
      ],
      "metadata": {
        "id": "uXn8XUqPJ2Kp",
        "colab": {
          "base_uri": "https://localhost:8080/"
        },
        "outputId": "e46df13f-58ff-432c-85c0-b84b37d6736f"
      },
      "id": "uXn8XUqPJ2Kp",
      "execution_count": null,
      "outputs": [
        {
          "output_type": "stream",
          "name": "stdout",
          "text": [
            "Starting car production line...\n",
            "Assembling parts: engine, chassis, and wheels...\n",
            "Painting the car body in the chosen color...\n",
            "Car production complete!\n"
          ]
        }
      ]
    },
    {
      "cell_type": "markdown",
      "source": [
        "## Encapsulation\n",
        "\n",
        "Encapsulation is about data protection, keeping some information hidden  \n",
        "and controlled inside a class.\n",
        "\n",
        "Python uses:\n",
        "- `public` → accessible anywhere  \n",
        "- `_protected` → meant for internal or subclass use  \n",
        "- `__private` → name-mangled (hidden) from outside\n",
        "\n",
        "The `BankAccount` class protects sensitive data.  \n",
        "The account balance is marked as protected and the PIN is private.  \n",
        "Access to this information is given only through specific methods.\n"
      ],
      "metadata": {
        "id": "WKESAvhYL82S"
      },
      "id": "WKESAvhYL82S"
    },
    {
      "cell_type": "code",
      "source": [
        "class BankAccount:\n",
        "    def __init__(self, name, balance, pin):\n",
        "        self.name = name         # public\n",
        "        self._balance = balance  # protected\n",
        "        self.__pin = pin         # private\n",
        "\n",
        "    def deposit(self, amount):\n",
        "        self._balance += amount\n",
        "\n",
        "    def show_balance(self, pin):\n",
        "        if pin == self.__pin:\n",
        "            print(f\"{self.name}'s Balance: ₹{self._balance}\")\n",
        "        else:\n",
        "            print(\"Access denied!\")\n",
        "\n",
        "acc = BankAccount(\"Abhinav\", 5000, 1234)\n",
        "acc.deposit(1000)\n",
        "acc.show_balance(1234)   # allowed\n",
        "acc.show_balance(1111)   # denied"
      ],
      "metadata": {
        "id": "ahHWKbbkJ5-B",
        "colab": {
          "base_uri": "https://localhost:8080/"
        },
        "outputId": "4396c97f-9f8e-4e04-cea5-641f964cd8c9"
      },
      "id": "ahHWKbbkJ5-B",
      "execution_count": null,
      "outputs": [
        {
          "output_type": "stream",
          "name": "stdout",
          "text": [
            "Abhinav's Balance: ₹6000\n",
            "Access denied!\n"
          ]
        }
      ]
    },
    {
      "cell_type": "markdown",
      "source": [
        "## Encapsulation with Inheritance — Savings Account\n",
        "\n",
        "`SavingsAccount` inherits from `BankAccount`.  \n",
        "It can use the protected balance while keeping its own interest rate private.  \n",
        "The method `add_interest()` increases the balance based on that rate."
      ],
      "metadata": {
        "id": "X_XNlH1BMMcy"
      },
      "id": "X_XNlH1BMMcy"
    },
    {
      "cell_type": "code",
      "source": [
        "class BankAccount:\n",
        "    def __init__(self, balance):\n",
        "        self._balance = balance  # protected\n",
        "\n",
        "class SavingsAccount(BankAccount):\n",
        "    def __init__(self, balance, rate):\n",
        "        super().__init__(balance)\n",
        "        self.__rate = rate       # private\n",
        "\n",
        "    def add_interest(self):\n",
        "        self._balance += self._balance * self.__rate / 100\n",
        "        print(f\"New Balance: ₹{self._balance}\")\n",
        "\n",
        "acc = SavingsAccount(10000, 5)\n",
        "acc.add_interest()\n"
      ],
      "metadata": {
        "id": "S72PEo8xJ8yh",
        "colab": {
          "base_uri": "https://localhost:8080/"
        },
        "outputId": "054b6962-b13d-4ade-8688-871a9fa12513"
      },
      "id": "S72PEo8xJ8yh",
      "execution_count": null,
      "outputs": [
        {
          "output_type": "stream",
          "name": "stdout",
          "text": [
            "New Balance: ₹10500.0\n"
          ]
        }
      ]
    },
    {
      "cell_type": "markdown",
      "source": [
        "## What is Polymorphism?\n",
        "\n",
        "Polymorphism allows the same method or operation to behave differently depending on the object. In Python, this means different classes can define methods with the same name, and the correct method is chosen at runtime.\n",
        "\n",
        "### Key Concepts\n",
        "\n",
        "- **Method overriding**: A child class redefines a method from the parent class with new behavior.  \n",
        "- **Duck typing**: \"If it walks like a duck and quacks like a duck, it’s a duck\" — objects with the same method name can be used interchangeably, even if unrelated by inheritance.  \n",
        "- **Built-in polymorphism**: Python functions like `len()`, `+`, `*`, etc. work with multiple data types (lists, strings, numbers) because of special methods.  \n",
        "- **Dunder methods**: Enable operator overloading and custom polymorphic behavior (e.g., `__add__`, `__len__`).  \n",
        "- **`isinstance()` & `issubclass()`**: Useful for checking object/class relationships, but not required since Python embraces dynamic polymorphism.  \n"
      ],
      "metadata": {
        "id": "vVRJvGlEfIPn"
      },
      "id": "vVRJvGlEfIPn"
    },
    {
      "cell_type": "code",
      "source": [
        "class Dog():\n",
        "    def __init__(self):\n",
        "        return\n",
        "\n",
        "    def sound(self) -> None:\n",
        "        print(\"woof!\")\n",
        "\n",
        "\n",
        "class Cat():\n",
        "    def __init__(self):\n",
        "        return\n",
        "\n",
        "    def sound(self) -> None:\n",
        "        print(\"meow!\")\n",
        "\n",
        "\n",
        "class Cow():\n",
        "    def __init__(self):\n",
        "        return\n",
        "\n",
        "    def sound(self) -> None:\n",
        "        print(\"moo!\")\n",
        "\n",
        "\n",
        "def main():\n",
        "    dog = Dog()\n",
        "    cat = Cat()\n",
        "    cow = Cow()\n",
        "\n",
        "    dog.sound()  # woof!\n",
        "    cat.sound()  # meow!\n",
        "    cow.sound()  # moo!\n",
        "\n",
        "\n",
        "if (__name__ == \"__main__\"):\n",
        "    main()\n"
      ],
      "metadata": {
        "colab": {
          "base_uri": "https://localhost:8080/"
        },
        "id": "3XpF-7ZdfLf1",
        "outputId": "c4f7621c-e315-4371-826c-b2995566e3f8"
      },
      "id": "3XpF-7ZdfLf1",
      "execution_count": null,
      "outputs": [
        {
          "output_type": "stream",
          "name": "stdout",
          "text": [
            "woof!\n",
            "meow!\n",
            "moo!\n"
          ]
        }
      ]
    },
    {
      "cell_type": "code",
      "source": [],
      "metadata": {
        "id": "uxCLU9wJcKY6"
      },
      "id": "uxCLU9wJcKY6",
      "execution_count": null,
      "outputs": []
    },
    {
      "cell_type": "markdown",
      "source": [
        "Let's look at a small example of the use of OOPs in AI!"
      ],
      "metadata": {
        "id": "YHUdMFxVC6Ew"
      },
      "id": "YHUdMFxVC6Ew"
    },
    {
      "cell_type": "code",
      "source": [
        "import torch\n",
        "import torch.nn as nn\n",
        "import torch.nn.functional as F\n",
        "\n",
        "# Parent class (from PyTorch)\n",
        "class MyModel(nn.Module):   # Inheritance\n",
        "    def __init__(self, input_size, hidden_size, output_size):\n",
        "        super(MyModel, self).__init__()  # super() calls parent constructor\n",
        "\n",
        "        # Encapsulation: internal layers are attributes of the object\n",
        "        self.fc1 = nn.Linear(input_size, hidden_size)\n",
        "        self.fc2 = nn.Linear(hidden_size, output_size)\n",
        "\n",
        "    def forward(self, x):  # Polymorphism: overriding forward() method\n",
        "        x = F.relu(self.fc1(x))\n",
        "        x = self.fc2(x)\n",
        "        return x\n",
        "\n",
        "# Using the custom model\n",
        "model = MyModel(input_size=10, hidden_size=20, output_size=2)\n",
        "\n",
        "# Input tensor\n",
        "x = torch.randn(5, 10)\n",
        "\n",
        "# Forward pass\n",
        "output = model(x)\n",
        "print(output.shape)\n"
      ],
      "metadata": {
        "id": "oJn_EswvC6WI",
        "colab": {
          "base_uri": "https://localhost:8080/"
        },
        "outputId": "4f161220-26e4-4770-ae17-06b9cefeaba6"
      },
      "id": "oJn_EswvC6WI",
      "execution_count": null,
      "outputs": [
        {
          "output_type": "stream",
          "name": "stdout",
          "text": [
            "torch.Size([5, 2])\n"
          ]
        }
      ]
    },
    {
      "cell_type": "markdown",
      "source": [
        "A small applied example on Dunder Methods."
      ],
      "metadata": {
        "id": "r9THD5JZEplB"
      },
      "id": "r9THD5JZEplB"
    },
    {
      "cell_type": "code",
      "source": [
        "class Vector:\n",
        "    def __init__(self, x, y):\n",
        "        self.x = x\n",
        "        self.y = y\n",
        "\n",
        "    def __add__(self, vector):\n",
        "        return Vector(self.x + vector.x, self.y + vector.y)\n",
        "\n",
        "    def __mul__(self, other):\n",
        "      if(type(other) == Vector):\n",
        "          return Vector(self.x * other.x, self.y * other.y)\n",
        "      else:\n",
        "          return Vector(self.x * other, self.y * other)\n",
        "\n",
        "    def __str__(self):\n",
        "        return f\"{self.x:.2f}i+{self.y:.2f}j\"\n",
        "\n",
        "    def cross(self, vector):\n",
        "        k = self.x * vector.y - self.y * vector.x\n",
        "        return f\"{k}k\"\n",
        "\n",
        "    def norm(self):\n",
        "        return (self.x**2 + self.y**2)**0.5\n",
        "\n",
        "    def normalize(self):\n",
        "        magn = self.norm()\n",
        "        return Vector(self.x / magn, self.y / magn)\n",
        "\n",
        "a = Vector(1, 2)\n",
        "b = Vector(3, 4)\n",
        "c = a + b\n",
        "d = a * b\n",
        "f = a.cross(b)\n",
        "g = a.normalize()\n",
        "h = a * 3\n",
        "\n",
        "print(c, d, f, \"\\n\", f\"b ka norm={b.norm():.2f}\", \"\\n\", g, h)"
      ],
      "metadata": {
        "colab": {
          "base_uri": "https://localhost:8080/"
        },
        "id": "IFPTen-uD7j8",
        "outputId": "717faf0f-5ea9-4701-b049-8c8bf4184535"
      },
      "id": "IFPTen-uD7j8",
      "execution_count": null,
      "outputs": [
        {
          "output_type": "stream",
          "name": "stdout",
          "text": [
            "4.00i+6.00j 3.00i+8.00j -2k \n",
            " b ka norm=5.00 \n",
            " 0.45i+0.89j 3.00i+6.00j\n"
          ]
        }
      ]
    },
    {
      "cell_type": "markdown",
      "source": [
        "So thats it! You now know the basics of Python and OOPs. YOu can start going into deeper ML Specific applications now, but before that, do try to solve this lovely question sheet. It will definitely get you more comfortable with Python and OOPs. <br>\n",
        "https://colab.research.google.com/drive/1x2XdOSgXrcZ5t6ZmIZ6T5qXyv-mMaUnI"
      ],
      "metadata": {
        "id": "SoJwUFwD0xIu"
      },
      "id": "SoJwUFwD0xIu"
    },
    {
      "cell_type": "markdown",
      "source": [],
      "metadata": {
        "id": "cC6C-oBg0xF-"
      },
      "id": "cC6C-oBg0xF-"
    }
  ],
  "metadata": {
    "language_info": {
      "name": "python"
    },
    "colab": {
      "provenance": [],
      "include_colab_link": true
    },
    "kernelspec": {
      "name": "python3",
      "display_name": "Python 3"
    }
  },
  "nbformat": 4,
  "nbformat_minor": 5
}